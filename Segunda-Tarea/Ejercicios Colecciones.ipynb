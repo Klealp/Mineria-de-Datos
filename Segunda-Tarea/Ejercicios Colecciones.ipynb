{
 "cells": [
  {
   "cell_type": "markdown",
   "id": "30d7aed2-9c90-4bff-9259-097c24289d58",
   "metadata": {},
   "source": [
    "# 1. Ejercicio con Listas"
   ]
  },
  {
   "cell_type": "markdown",
   "id": "29ddd465-72e6-4928-ac5f-db7680d0bed3",
   "metadata": {},
   "source": [
    "## Métodos para manipulación de listas"
   ]
  },
  {
   "cell_type": "markdown",
   "id": "6faa1316-5e5e-4b6d-84b0-05166880f622",
   "metadata": {},
   "source": [
    "#### Por favor pruebe cada uno de estos métodos."
   ]
  },
  {
   "cell_type": "markdown",
   "id": "80d4fd2e-99f3-40d8-94dc-3b938e6beaa8",
   "metadata": {},
   "source": [
    "En primer lugar, para ejemplificar todos los métodos que se van a presentar a continuación vamos a crear una lista."
   ]
  },
  {
   "cell_type": "code",
   "execution_count": 2,
   "id": "b5b3e7b0-7257-4928-a24f-957ff4269175",
   "metadata": {},
   "outputs": [
    {
     "name": "stdout",
     "output_type": "stream",
     "text": [
      "['Biología', 'C.Computación', 'Estadística', 'Farmacia', 'Física', 'Geología', 'Matemáticas', 'Química']\n"
     ]
    }
   ],
   "source": [
    "Ciencias = [\"Biología\",\"C.Computación\",\"Estadística\",\"Farmacia\",\"Física\",\"Geología\",\"Matemáticas\",\"Química\"]\n",
    "print(Ciencias)"
   ]
  },
  {
   "cell_type": "markdown",
   "id": "94a4a0fd-5ac5-4972-855e-08db12aa7f83",
   "metadata": {},
   "source": [
    "* **append()**: agregar elemento al final de la lista. "
   ]
  },
  {
   "cell_type": "code",
   "execution_count": 3,
   "id": "4caf98fb-6095-4d73-8982-7fda972842b6",
   "metadata": {},
   "outputs": [
    {
     "name": "stdout",
     "output_type": "stream",
     "text": [
      "['Biología', 'C.Computación', 'Estadística', 'Farmacia', 'Física', 'Geología', 'Matemáticas', 'Química', 'Ecología']\n"
     ]
    }
   ],
   "source": [
    "Ciencias.append(\"Ecología\")\n",
    "print(Ciencias)"
   ]
  },
  {
   "cell_type": "markdown",
   "id": "08b83d06-87b5-4ece-a565-82d9192804bb",
   "metadata": {},
   "source": [
    "* **copy()**: regresa copia de la lista. "
   ]
  },
  {
   "cell_type": "code",
   "execution_count": 4,
   "id": "ad54588d-d8b6-454d-b281-03f14baef4d5",
   "metadata": {},
   "outputs": [
    {
     "name": "stdout",
     "output_type": "stream",
     "text": [
      "['Biología', 'C.Computación', 'Estadística', 'Farmacia', 'Física', 'Geología', 'Matemáticas', 'Química', 'Ecología']\n"
     ]
    }
   ],
   "source": [
    "Carreras = Ciencias.copy()\n",
    "print(Carreras)"
   ]
  },
  {
   "cell_type": "markdown",
   "id": "0fcaf701-4a62-418e-b7af-4968b55b3a0f",
   "metadata": {},
   "source": [
    "* **count()**: regresa el número de elementos con el valor especificado. "
   ]
  },
  {
   "cell_type": "code",
   "execution_count": 5,
   "id": "da04ff6c-d4ca-4010-98fb-b968b3086497",
   "metadata": {},
   "outputs": [
    {
     "name": "stdout",
     "output_type": "stream",
     "text": [
      "1\n"
     ]
    }
   ],
   "source": [
    "print(Ciencias.count(\"Estadística\"))"
   ]
  },
  {
   "cell_type": "markdown",
   "id": "57720998-ea85-4e24-b3fa-02d1b561de8c",
   "metadata": {},
   "source": [
    "* **extend()**: Agrega elementos de cualquier iterable a nuestra lista. "
   ]
  },
  {
   "cell_type": "code",
   "execution_count": 6,
   "id": "8d70f05c-cd9b-4f75-91c9-fc9f8957f4bc",
   "metadata": {},
   "outputs": [
    {
     "name": "stdout",
     "output_type": "stream",
     "text": [
      "('Economía', 'Contaduría', 'Administración')\n",
      "['Biología', 'C.Computación', 'Estadística', 'Farmacia', 'Física', 'Geología', 'Matemáticas', 'Química', 'Ecología', 'Economía', 'Contaduría', 'Administración']\n"
     ]
    }
   ],
   "source": [
    "Economicas = (\"Economía\", \"Contaduría\", \"Administración\")\n",
    "print(Economicas)\n",
    "Ciencias.extend(Economicas)\n",
    "print(Ciencias)"
   ]
  },
  {
   "cell_type": "markdown",
   "id": "3262bb39-fa5b-48f9-bea4-585aaae1aeb1",
   "metadata": {},
   "source": [
    "* **index()**: Regresa el índice del primer elemento con el valor especificado."
   ]
  },
  {
   "cell_type": "code",
   "execution_count": 7,
   "id": "2e3544a6-56ff-471e-b15c-eb0a85d61d8a",
   "metadata": {},
   "outputs": [
    {
     "name": "stdout",
     "output_type": "stream",
     "text": [
      "7\n"
     ]
    }
   ],
   "source": [
    "print(Ciencias.index(\"Química\"))"
   ]
  },
  {
   "cell_type": "markdown",
   "id": "47ea2936-8dd6-4ca5-bf87-34149245722b",
   "metadata": {},
   "source": [
    "* **insert()**: Adiciona un elemento a la lista en la posición especificada."
   ]
  },
  {
   "cell_type": "code",
   "execution_count": 9,
   "id": "6a97b765-c6f0-4417-b68a-0279df25639b",
   "metadata": {},
   "outputs": [
    {
     "name": "stdout",
     "output_type": "stream",
     "text": [
      "['Biología', 'C.Computación', 'Medicina', 'Estadística', 'Farmacia', 'Física', 'Geología', 'Matemáticas', 'Química', 'Ecología', 'Economía', 'Contaduría', 'Administración']\n"
     ]
    }
   ],
   "source": [
    "Ciencias.insert(2, \"Medicina\")\n",
    "print(Ciencias)"
   ]
  },
  {
   "cell_type": "markdown",
   "id": "a826f4e7-659e-4665-9335-14db5e952de9",
   "metadata": {},
   "source": [
    "* **pop()**: Remueve un elemento en la posición especificada y puede retornarlo si se hace una asignación."
   ]
  },
  {
   "cell_type": "code",
   "execution_count": 10,
   "id": "727053bd-0e48-4001-b90c-1a68011fbb8d",
   "metadata": {},
   "outputs": [
    {
     "name": "stdout",
     "output_type": "stream",
     "text": [
      "['Biología', 'C.Computación', 'Medicina', 'Estadística', 'Farmacia', 'Física', 'Geología', 'Matemáticas', 'Química', 'Economía', 'Contaduría', 'Administración']\n",
      "Ecología\n"
     ]
    }
   ],
   "source": [
    "Ambiente = Ciencias.pop(9)\n",
    "print(Ciencias)\n",
    "print(Ambiente)"
   ]
  },
  {
   "cell_type": "markdown",
   "id": "c8459218-0027-427a-97e8-bd5bea4d2595",
   "metadata": {},
   "source": [
    "* **remove()**: Remueve el item con este valor específico."
   ]
  },
  {
   "cell_type": "code",
   "execution_count": 11,
   "id": "43b6947b-5671-43bd-b926-c988849db64c",
   "metadata": {},
   "outputs": [
    {
     "name": "stdout",
     "output_type": "stream",
     "text": [
      "['Biología', 'C.Computación', 'Estadística', 'Farmacia', 'Física', 'Geología', 'Matemáticas', 'Química', 'Economía', 'Contaduría', 'Administración']\n"
     ]
    }
   ],
   "source": [
    "Ciencias.remove(\"Medicina\")\n",
    "print(Ciencias)"
   ]
  },
  {
   "cell_type": "markdown",
   "id": "830899e8-0fb0-444e-a241-e2fc9839d094",
   "metadata": {},
   "source": [
    "* **reverse()**: Revierte el orden de la lista."
   ]
  },
  {
   "cell_type": "code",
   "execution_count": 14,
   "id": "3d941ae0-3eb2-4e8e-917f-d6ce24db276b",
   "metadata": {},
   "outputs": [
    {
     "name": "stdout",
     "output_type": "stream",
     "text": [
      "['Administración', 'Contaduría', 'Economía', 'Química', 'Matemáticas', 'Geología', 'Física', 'Farmacia', 'Estadística', 'C.Computación', 'Biología']\n"
     ]
    }
   ],
   "source": [
    "Ciencias.reverse()\n",
    "print(Ciencias)"
   ]
  },
  {
   "cell_type": "markdown",
   "id": "14afd5a2-6311-4e2d-a1c4-5b10eb8f839c",
   "metadata": {},
   "source": [
    "* **sort()**: Ordena la lista (En este caso de forma alfabética)."
   ]
  },
  {
   "cell_type": "code",
   "execution_count": 15,
   "id": "db376b43-de7c-40ea-aef3-51ea3f78d08f",
   "metadata": {},
   "outputs": [
    {
     "name": "stdout",
     "output_type": "stream",
     "text": [
      "['Administración', 'Biología', 'C.Computación', 'Contaduría', 'Economía', 'Estadística', 'Farmacia', 'Física', 'Geología', 'Matemáticas', 'Química']\n"
     ]
    }
   ],
   "source": [
    "Ciencias.sort()\n",
    "print(Ciencias)"
   ]
  },
  {
   "cell_type": "markdown",
   "id": "428fbf46-a17f-40fc-8d2c-90c24153695b",
   "metadata": {},
   "source": [
    "* **clear()**: Remueve todos los elementos de la lista."
   ]
  },
  {
   "cell_type": "code",
   "execution_count": 16,
   "id": "63946188-db81-470c-b537-dd126ec10edc",
   "metadata": {},
   "outputs": [
    {
     "name": "stdout",
     "output_type": "stream",
     "text": [
      "[]\n"
     ]
    }
   ],
   "source": [
    "Ciencias.clear()\n",
    "print(Ciencias)"
   ]
  },
  {
   "cell_type": "markdown",
   "id": "11276bd8-f1b0-476c-88af-c70c5871345c",
   "metadata": {
    "tags": []
   },
   "source": [
    "# 2. Ejercicio con Diccionarios"
   ]
  },
  {
   "cell_type": "markdown",
   "id": "22cd9812-d663-49a0-a47b-c39dc0607b92",
   "metadata": {
    "tags": []
   },
   "source": [
    "#### A partir de las siguientes líneas de código, entienda lo que hace cada uno de los métodos y cree sus propio ejemplo de mayor complejidad."
   ]
  },
  {
   "cell_type": "markdown",
   "id": "099e3686-fe63-43b0-845a-b43054053709",
   "metadata": {},
   "source": [
    "Lo primero que realizamos es crear el diccionario con el cual vamos a trabajar"
   ]
  },
  {
   "cell_type": "code",
   "execution_count": 13,
   "id": "792d09f1-bce4-47e4-aaf0-092efb3d35da",
   "metadata": {
    "tags": []
   },
   "outputs": [
    {
     "name": "stdout",
     "output_type": "stream",
     "text": [
      "{'Comida': ['Papa', 'Tomate', 'Aceite', 'Galletas', 'Jugo'], ('Tecnologia', 'Electronicos'): ['Celular', 'Televisor'], 'Juguetes': 'Peluche', 'Aseo': (20, 'Jabon', True, 10, 'Escoba', False), 'Otros': 'Camisa'}\n"
     ]
    }
   ],
   "source": [
    "Compras = {\n",
    "...        \"Comida\":[\"Papa\",\"Tomate\",\"Aceite\",\"Galletas\",\"Jugo\"],\n",
    "...        (\"Tecnologia\", \"Electronicos\"):[\"Celular\",\"Televisor\"],\n",
    "...        \"Juguetes\":\"Peluche\",\n",
    "...        \"Aseo\":(20, \"Jabon\", True, 10, \"Escoba\", False),\n",
    "...        \"Otros\":\"Camisa\"\n",
    "... }\n",
    "print(Compras)"
   ]
  },
  {
   "cell_type": "markdown",
   "id": "14afb61e-24bb-4fca-95b5-7b328618d603",
   "metadata": {},
   "source": [
    "* De esta manera podemos ver que si queremos saber las llaves del diccionario podemos usar keys()"
   ]
  },
  {
   "cell_type": "code",
   "execution_count": 3,
   "id": "b050e5a1-dbf5-4d33-a296-7ae381ee4196",
   "metadata": {},
   "outputs": [
    {
     "name": "stdout",
     "output_type": "stream",
     "text": [
      "dict_keys(['Comida', ('Tecnologia', 'Electronicos'), 'Juguetes', 'Aseo', 'Otros'])\n"
     ]
    }
   ],
   "source": [
    "print(Compras.keys())"
   ]
  },
  {
   "cell_type": "markdown",
   "id": "e5edc7a2-875d-4682-afea-1d5e94fa962a",
   "metadata": {},
   "source": [
    "* Para saber los valores contenidos en cada una de estas llaves usamos values()"
   ]
  },
  {
   "cell_type": "code",
   "execution_count": 4,
   "id": "3429b08b-6c02-4531-9532-3ef76231dbd5",
   "metadata": {},
   "outputs": [
    {
     "name": "stdout",
     "output_type": "stream",
     "text": [
      "dict_values([['Papa', 'Tomate', 'Aceite', 'Galletas', 'Jugo'], ['Celular', 'Televisor'], 'Peluche', (20, 'Jabon', True, 10, 'Escoba', False), 'Camisa'])\n"
     ]
    }
   ],
   "source": [
    "print(Compras.values())"
   ]
  },
  {
   "cell_type": "markdown",
   "id": "b1813e9a-9407-4ad4-a8b0-cf43ba3ec6c0",
   "metadata": {},
   "source": [
    "* Si queremos eliminar una de las parejas (clave:valor) y poder asignar el valor en otro objeto debemos usar pop()"
   ]
  },
  {
   "cell_type": "code",
   "execution_count": 8,
   "id": "0a85ba4a-518d-463b-a4a3-f88645461488",
   "metadata": {},
   "outputs": [
    {
     "name": "stdout",
     "output_type": "stream",
     "text": [
      "Peluche\n",
      "{'Comida': ['Papa', 'Tomate', 'Aceite', 'Galletas', 'Jugo'], ('Tecnologia', 'Electronicos'): ['Celular', 'Televisor'], 'Aseo': (20, 'Jabon', True, 10, 'Escoba', False), 'Otros': 'Camisa'}\n"
     ]
    }
   ],
   "source": [
    "print(Compras.pop(\"Juguetes\"))\n",
    "print(Compras)"
   ]
  },
  {
   "cell_type": "markdown",
   "id": "c66aa5da-1601-40bd-95be-288870be23a1",
   "metadata": {},
   "source": [
    "* Pero si simplemente queremos eliminar la última pareja contenida en el diccionario podemos usar popitem()"
   ]
  },
  {
   "cell_type": "code",
   "execution_count": 14,
   "id": "95326308-372a-4dfb-9729-d9562fc15a81",
   "metadata": {},
   "outputs": [
    {
     "name": "stdout",
     "output_type": "stream",
     "text": [
      "('Otros', 'Camisa')\n",
      "{'Comida': ['Papa', 'Tomate', 'Aceite', 'Galletas', 'Jugo'], ('Tecnologia', 'Electronicos'): ['Celular', 'Televisor'], 'Juguetes': 'Peluche', 'Aseo': (20, 'Jabon', True, 10, 'Escoba', False)}\n"
     ]
    }
   ],
   "source": [
    "print(Compras.popitem())\n",
    "print(Compras)"
   ]
  },
  {
   "cell_type": "markdown",
   "id": "d0bafd8d-4329-4d5f-b695-54e6ab39db1b",
   "metadata": {},
   "source": [
    "* Ahora, para poder agregar una nueva pareja a nuestro diccionario lo hacemos a través de la función update()"
   ]
  },
  {
   "cell_type": "code",
   "execution_count": 16,
   "id": "462a46f7-1b47-47ee-9d9d-ca19ea467eb7",
   "metadata": {},
   "outputs": [
    {
     "name": "stdout",
     "output_type": "stream",
     "text": [
      "None\n",
      "{'Comida': ['Papa', 'Tomate', 'Aceite', 'Galletas', 'Jugo'], ('Tecnologia', 'Electronicos'): ['Celular', 'Televisor'], 'Juguetes': 'Peluche', 'Aseo': (20, 'Jabon', True, 10, 'Escoba', False), 'Otros': 'Pantalon'}\n"
     ]
    }
   ],
   "source": [
    "print(Compras.update({\"Otros\":\"Pantalon\"}))\n",
    "print(Compras)"
   ]
  }
 ],
 "metadata": {
  "kernelspec": {
   "display_name": "Python 3 (ipykernel)",
   "language": "python",
   "name": "python3"
  },
  "language_info": {
   "codemirror_mode": {
    "name": "ipython",
    "version": 3
   },
   "file_extension": ".py",
   "mimetype": "text/x-python",
   "name": "python",
   "nbconvert_exporter": "python",
   "pygments_lexer": "ipython3",
   "version": "3.9.12"
  }
 },
 "nbformat": 4,
 "nbformat_minor": 5
}
