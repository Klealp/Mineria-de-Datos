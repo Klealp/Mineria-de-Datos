{
 "cells": [
  {
   "cell_type": "markdown",
   "id": "ee0dc189-ed52-4f7c-8007-d3389bcc1609",
   "metadata": {},
   "source": [
    "# CLASE ITERABLE"
   ]
  },
  {
   "cell_type": "markdown",
   "id": "e386651f-5038-41b3-ad9e-a192ee0c0caf",
   "metadata": {},
   "source": [
    "## Cuenta Bancaria\n"
   ]
  },
  {
   "cell_type": "markdown",
   "id": "95996604-8166-4aca-b720-f56dcd849727",
   "metadata": {},
   "source": [
    "Vamos a crear una clase que recibe la dirección URL de un archivo excel que contenga una tabla de datos con la información de los usuarios de nuestro banco y la guardará en un dataframe de pandas, para que luego nos muestre la información de cada uno de ellos cuando se le pida. Por lo tanto, primero veremos el archivo ejemplo que utilizaremos para probar nuestra clase."
   ]
  },
  {
   "cell_type": "code",
   "execution_count": 5,
   "id": "8757cbee-6b4e-483a-b91c-91fb6e0ad07d",
   "metadata": {},
   "outputs": [
    {
     "data": {
      "text/html": [
       "<div>\n",
       "<style scoped>\n",
       "    .dataframe tbody tr th:only-of-type {\n",
       "        vertical-align: middle;\n",
       "    }\n",
       "\n",
       "    .dataframe tbody tr th {\n",
       "        vertical-align: top;\n",
       "    }\n",
       "\n",
       "    .dataframe thead th {\n",
       "        text-align: right;\n",
       "    }\n",
       "</style>\n",
       "<table border=\"1\" class=\"dataframe\">\n",
       "  <thead>\n",
       "    <tr style=\"text-align: right;\">\n",
       "      <th></th>\n",
       "      <th>Numero_cuenta</th>\n",
       "      <th>Nombre_cliente</th>\n",
       "      <th>Saldo_actual</th>\n",
       "      <th>Fecha_ult_trans</th>\n",
       "    </tr>\n",
       "  </thead>\n",
       "  <tbody>\n",
       "    <tr>\n",
       "      <th>0</th>\n",
       "      <td>45621315</td>\n",
       "      <td>Sebastian Romero</td>\n",
       "      <td>15323000</td>\n",
       "      <td>2022-07-30</td>\n",
       "    </tr>\n",
       "    <tr>\n",
       "      <th>1</th>\n",
       "      <td>56451165</td>\n",
       "      <td>Edward Parra</td>\n",
       "      <td>900000</td>\n",
       "      <td>2022-08-02</td>\n",
       "    </tr>\n",
       "    <tr>\n",
       "      <th>2</th>\n",
       "      <td>98745632</td>\n",
       "      <td>Karol Avila</td>\n",
       "      <td>20850000</td>\n",
       "      <td>2022-07-26</td>\n",
       "    </tr>\n",
       "    <tr>\n",
       "      <th>3</th>\n",
       "      <td>31526354</td>\n",
       "      <td>Isabella Castillo</td>\n",
       "      <td>5800000</td>\n",
       "      <td>2022-08-15</td>\n",
       "    </tr>\n",
       "    <tr>\n",
       "      <th>4</th>\n",
       "      <td>36268547</td>\n",
       "      <td>Miguel Acuña</td>\n",
       "      <td>560000</td>\n",
       "      <td>2022-08-20</td>\n",
       "    </tr>\n",
       "    <tr>\n",
       "      <th>5</th>\n",
       "      <td>65498237</td>\n",
       "      <td>Jessica Montañez</td>\n",
       "      <td>1225000</td>\n",
       "      <td>2022-08-22</td>\n",
       "    </tr>\n",
       "  </tbody>\n",
       "</table>\n",
       "</div>"
      ],
      "text/plain": [
       "   Numero_cuenta     Nombre_cliente  Saldo_actual Fecha_ult_trans\n",
       "0       45621315  Sebastian Romero       15323000      2022-07-30\n",
       "1       56451165       Edward Parra        900000      2022-08-02\n",
       "2       98745632        Karol Avila      20850000      2022-07-26\n",
       "3       31526354  Isabella Castillo       5800000      2022-08-15\n",
       "4       36268547       Miguel Acuña        560000      2022-08-20\n",
       "5       65498237   Jessica Montañez       1225000      2022-08-22"
      ]
     },
     "execution_count": 5,
     "metadata": {},
     "output_type": "execute_result"
    }
   ],
   "source": [
    "import pandas as pd\n",
    "\n",
    "#  Dirección URL\n",
    "path = \"https://github.com/Klealp/Mineria-de-Datos/blob/main/Segunda-Tarea/Cuentas_Bancarias.xlsx?raw=true\" \n",
    "\n",
    "Cuentas = pd.read_excel(path)\n",
    "Cuentas"
   ]
  },
  {
   "cell_type": "markdown",
   "id": "1d0eb43a-db62-4ebe-a2c6-8a0c095ca00e",
   "metadata": {},
   "source": [
    "Ahora, creamos la clase **CuentaBancaria** que realizará el proceso anteriormente descrito."
   ]
  },
  {
   "cell_type": "code",
   "execution_count": 12,
   "id": "9c26b54f-6d82-47a7-9956-57ae94e40d86",
   "metadata": {},
   "outputs": [],
   "source": [
    "class CuentaBancaria:\n",
    "    \"\"\" Una base de datos con la información de las cuentas bancarias\n",
    "    de  nuestros usuarios. Por ahora, solo recolectamos numero de cuenta,\n",
    "    nombre del cliente, saldo y fecha con la última transacción.\"\"\"\n",
    "    \n",
    "    def __init__(self, filepath):\n",
    "        self.Datafr = pd.read_excel(filepath)\n",
    "        self.val = 0\n",
    "        self.limit = self.Datafr.shape[0] - 1\n",
    "        \n",
    "    def informacion(self):\n",
    "        \"\"\" Regresa la información de cada usuario presente en la \n",
    "        base de datos.\"\"\"\n",
    "        fila = self.Datafr.iloc[self.val,]\n",
    "        return (fila)\n",
    "    \n",
    "    # Hace esta clase iterable\n",
    "    def __iter__(self):\n",
    "        return self\n",
    "    \n",
    "    # Hace esta clase un iterador\n",
    "    def __next__(self):\n",
    "        if self.val > self.limit:\n",
    "            self.val = 0\n",
    "            raise StopIteration\n",
    "        else:\n",
    "            valores = self.informacion()\n",
    "            self.val += 1\n",
    "            return (valores)"
   ]
  },
  {
   "cell_type": "markdown",
   "id": "3228c027-4736-451b-ac3d-1233e5a1c0eb",
   "metadata": {},
   "source": [
    "De esta manera, podemos evaluar el funcionamiento de nuestra clase. Por medio de la funciones **iter()** y **next()** podemos indicar que se nos muestre al siguiente usuario cuando se necesite."
   ]
  },
  {
   "cell_type": "code",
   "execution_count": 10,
   "id": "2421a20f-981d-4a38-a4c5-baf0360f2bbb",
   "metadata": {},
   "outputs": [
    {
     "name": "stdout",
     "output_type": "stream",
     "text": [
      "Numero_cuenta                 45621315\n",
      "Nombre_cliente       Sebastian Romero \n",
      "Saldo_actual                  15323000\n",
      "Fecha_ult_trans    2022-07-30 00:00:00\n",
      "Name: 0, dtype: object\n",
      "\n",
      "Numero_cuenta                 56451165\n",
      "Nombre_cliente            Edward Parra\n",
      "Saldo_actual                    900000\n",
      "Fecha_ult_trans    2022-08-02 00:00:00\n",
      "Name: 1, dtype: object\n"
     ]
    }
   ],
   "source": [
    "iterador = iter(CuentaBancaria(path))\n",
    "print(next(iterador))\n",
    "print()\n",
    "print(next(iterador))"
   ]
  },
  {
   "cell_type": "markdown",
   "id": "a43d278c-873d-4f55-b548-812cd87f0ca5",
   "metadata": {},
   "source": [
    "También podemos utilizar una sentencia **for** para que nos muestre todos los usuarios presentes en el dataframe."
   ]
  },
  {
   "cell_type": "code",
   "execution_count": 11,
   "id": "2487907d-3b12-42ea-926f-8b9949133587",
   "metadata": {},
   "outputs": [
    {
     "name": "stdout",
     "output_type": "stream",
     "text": [
      "Siguiente Usuario:\n",
      "Numero_cuenta                 45621315\n",
      "Nombre_cliente       Sebastian Romero \n",
      "Saldo_actual                  15323000\n",
      "Fecha_ult_trans    2022-07-30 00:00:00\n",
      "Name: 0, dtype: object\n",
      "\n",
      "Siguiente Usuario:\n",
      "Numero_cuenta                 56451165\n",
      "Nombre_cliente            Edward Parra\n",
      "Saldo_actual                    900000\n",
      "Fecha_ult_trans    2022-08-02 00:00:00\n",
      "Name: 1, dtype: object\n",
      "\n",
      "Siguiente Usuario:\n",
      "Numero_cuenta                 98745632\n",
      "Nombre_cliente             Karol Avila\n",
      "Saldo_actual                  20850000\n",
      "Fecha_ult_trans    2022-07-26 00:00:00\n",
      "Name: 2, dtype: object\n",
      "\n",
      "Siguiente Usuario:\n",
      "Numero_cuenta                 31526354\n",
      "Nombre_cliente       Isabella Castillo\n",
      "Saldo_actual                   5800000\n",
      "Fecha_ult_trans    2022-08-15 00:00:00\n",
      "Name: 3, dtype: object\n",
      "\n",
      "Siguiente Usuario:\n",
      "Numero_cuenta                 36268547\n",
      "Nombre_cliente            Miguel Acuña\n",
      "Saldo_actual                    560000\n",
      "Fecha_ult_trans    2022-08-20 00:00:00\n",
      "Name: 4, dtype: object\n",
      "\n",
      "Siguiente Usuario:\n",
      "Numero_cuenta                 65498237\n",
      "Nombre_cliente        Jessica Montañez\n",
      "Saldo_actual                   1225000\n",
      "Fecha_ult_trans    2022-08-22 00:00:00\n",
      "Name: 5, dtype: object\n",
      "\n"
     ]
    }
   ],
   "source": [
    "Usuarios = CuentaBancaria(path)\n",
    "for i in Usuarios:\n",
    "    print(\"Siguiente Usuario:\")\n",
    "    print(i)\n",
    "    print()"
   ]
  }
 ],
 "metadata": {
  "kernelspec": {
   "display_name": "Python 3 (ipykernel)",
   "language": "python",
   "name": "python3"
  },
  "language_info": {
   "codemirror_mode": {
    "name": "ipython",
    "version": 3
   },
   "file_extension": ".py",
   "mimetype": "text/x-python",
   "name": "python",
   "nbconvert_exporter": "python",
   "pygments_lexer": "ipython3",
   "version": "3.9.12"
  }
 },
 "nbformat": 4,
 "nbformat_minor": 5
}
